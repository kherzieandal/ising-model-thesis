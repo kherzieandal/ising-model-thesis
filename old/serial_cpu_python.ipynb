{
 "cells": [
  {
   "cell_type": "markdown",
   "metadata": {},
   "source": [
    "# Serial CPU - Python Standard"
   ]
  },
  {
   "cell_type": "markdown",
   "metadata": {
    "id": "RPjJUd2RITXg"
   },
   "source": [
    "# Metropolis Algorithm ($h=0$)\n",
    "## Algorithm\n",
    "1. Choose an initial state $S(0) = (S_1,\\ldots,S_N)$\n",
    "2. Choose an $i$ (randomly or sequentially) and calculate $\\Delta E=-2S_ih_i$\n",
    "3. If $\\Delta E\\geq 0$, then flip the spin, $S_i\\to -S_i$. If $\\Delta E< 0$, draw a uniformly distributed random number $r \\in [0,1]$. If $r < e^{\\Delta E/kbT}$, flip the spin, $S_i\\to -S_i$, otherwise take the old configuration into account once more.\n",
    "4. Iterate 2 and 3.\n",
    "\n"
   ]
  },
  {
   "cell_type": "markdown",
   "metadata": {
    "id": "6sWhSuU8Iuw_"
   },
   "source": [
    "$$H(S)=-JS_i\\sum_{j\\in N(i)}S_j-hS_i+remainder$$\n",
    "$$\\Delta E=-2S_i\\left(J\\sum_{j\\in N(i)}S_j+h\\right)=-2S_ih_i$$"
   ]
  },
  {
   "cell_type": "markdown",
   "metadata": {},
   "source": [
    "## Modules"
   ]
  },
  {
   "cell_type": "code",
   "execution_count": 1,
   "metadata": {
    "executionInfo": {
     "elapsed": 12,
     "status": "ok",
     "timestamp": 1634965904121,
     "user": {
      "displayName": "Kherzie Andrei G. Andal",
      "photoUrl": "https://lh3.googleusercontent.com/a-/AOh14GgniVQ1Tb3x9NfMeawbCo7EdPiVBRRBw9WfD5DrlA=s64",
      "userId": "12796239845141779174"
     },
     "user_tz": -480
    },
    "id": "ThaEaW2WDcm-"
   },
   "outputs": [],
   "source": [
    "import numpy as np\n",
    "import matplotlib.pyplot as plt"
   ]
  },
  {
   "cell_type": "markdown",
   "metadata": {},
   "source": [
    "## Functions"
   ]
  },
  {
   "cell_type": "code",
   "execution_count": 2,
   "metadata": {
    "executionInfo": {
     "elapsed": 12,
     "status": "ok",
     "timestamp": 1634965904123,
     "user": {
      "displayName": "Kherzie Andrei G. Andal",
      "photoUrl": "https://lh3.googleusercontent.com/a-/AOh14GgniVQ1Tb3x9NfMeawbCo7EdPiVBRRBw9WfD5DrlA=s64",
      "userId": "12796239845141779174"
     },
     "user_tz": -480
    },
    "id": "PoREmQg9DFpP"
   },
   "outputs": [],
   "source": [
    "#----------------------------------------------------------------------\n",
    "##  BLOCK OF FUNCTIONS USED IN THE MAIN CODE\n",
    "#----------------------------------------------------------------------\n",
    "def initial_state(N, M):\n",
    "    \"\"\"\n",
    "    Create an array of size (N, M) with random values of -1, +1\n",
    "    \n",
    "    Parameters:\n",
    "    -----------\n",
    "    N: int\n",
    "        no. of rows\n",
    "    M: int\n",
    "        no. of columns\n",
    "        \n",
    "    Returns:\n",
    "    ---------\n",
    "    array\n",
    "        The lattice containing random spins\n",
    "    \"\"\"\n",
    "    \n",
    "    state = np.random.choice(np.array([-1,1]),size=(N,M))\n",
    "    return state\n",
    "\n",
    "\n",
    "def mc_move(lattice, inv_temp, J, h):    \n",
    "    \"\"\"\n",
    "    Perform 1 Monte Carlo sweep using the Metropolis algorithm\n",
    "    \n",
    "    Parameters:\n",
    "    -----------\n",
    "    lattice: array\n",
    "        The lattice to perform an MC sweep on\n",
    "    inv_temp: float\n",
    "        The inverse temperature of the system\n",
    "    J: float\n",
    "        Interaction constant\n",
    "    h: float\n",
    "        External magnetic field\n",
    "        \n",
    "    Returns\n",
    "    -------\n",
    "    array\n",
    "        The lattice after performing 1 MC sweep\n",
    "    \"\"\"\n",
    "    \n",
    "    n = lattice.shape[0]\n",
    "    m = lattice.shape[1]\n",
    "    for i in range(n):\n",
    "        for j in range(m):\n",
    "            # Periodicity for neighbors out of index\n",
    "            ipp = (i + 1) if (i + 1) < n else 0\n",
    "            jpp = (j + 1) if (j + 1) < m else 0\n",
    "            inn = (i - 1) if (i - 1) >= 0 else (n - 1)\n",
    "            jnn = (j - 1) if (j - 1) >= 0 else (m - 1)  \n",
    "            \n",
    "            # Calculate neighbors\n",
    "            nb = lattice[ipp,j] + lattice[i,jpp] + lattice[inn,j] + lattice[i,jnn]\n",
    "            \n",
    "            # Compute energy difference\n",
    "            spin =  lattice[i, j]\n",
    "            delta_E = -2*spin*(J*nb + h)\n",
    "            \n",
    "            # Conditions for flipping:\n",
    "            if delta_E >= 0:\n",
    "                lattice[i, j] = -spin\n",
    "            elif np.random.rand() < np.exp(delta_E*inv_temp):\n",
    "                lattice[i, j] = -spin\n",
    "    return lattice\n",
    "\n",
    "\n",
    "def calc_energy(lattice, J, h):\n",
    "    \"\"\"\"\n",
    "    Calculates the total internal energy of a given configuration\n",
    "    \n",
    "    Parameters:\n",
    "    -----------\n",
    "    lattice: array\n",
    "        The lattice is the configuration to be calculated\n",
    "    J: float\n",
    "        Interaction constant\n",
    "    h: float\n",
    "        External magnetic field\n",
    "        \n",
    "    Returns\n",
    "    -------\n",
    "    float\n",
    "        The calculated total energy of the lattice\n",
    "    \n",
    "    \"\"\"\n",
    "    n = lattice.shape[0]\n",
    "    m = lattice.shape[1]\n",
    "    \n",
    "    energy = 0\n",
    "    for i in range(n):\n",
    "        for j in range(m):\n",
    "            # For periodicty and index\n",
    "            ipp = (i + 1) if (i + 1) < n else 0\n",
    "            jpp = (j + 1) if (j + 1) < m else 0\n",
    "            inn = (i - 1) if (i - 1) >= 0 else (n - 1)\n",
    "            jnn = (j - 1) if (j - 1) >= 0 else (m - 1)\n",
    "            \n",
    "            spin = lattice[i,j]\n",
    "            nb = lattice[ipp, j] + lattice[i,jpp] + lattice[inn, j] + lattice[i,jnn]\n",
    "            energy += ((-J*nb*spin)-(h*nb))\n",
    "    return energy/2.\n",
    "\n",
    "\n",
    "def calc_mag(lattice):\n",
    "    \"\"\"\n",
    "    Return the total magnetization of a given configuration\n",
    "    \n",
    "    Parameters:\n",
    "    -----------\n",
    "    lattice: array\n",
    "        The lattice is the configuration to be calculated\n",
    "        \n",
    "    Returns\n",
    "    --------\n",
    "    int\n",
    "        The total magnetization of the lattice\n",
    "    \"\"\"\n",
    "\n",
    "    mag = np.sum(lattice, dtype=np.int64)\n",
    "    return mag\n",
    "\n",
    "def plot_ising(lattice, colorbar=True):\n",
    "    plt.imshow(lattice, cmap='gray', vmin=-1, vmax=1) \n",
    "    if colorbar == True:\n",
    "        plt.colorbar()"
   ]
  },
  {
   "cell_type": "markdown",
   "metadata": {},
   "source": [
    "## Simulation"
   ]
  },
  {
   "cell_type": "code",
   "execution_count": 11,
   "metadata": {},
   "outputs": [],
   "source": [
    "######### Set the Variables ############\n",
    "\n",
    "# Size of the lattice:\n",
    "lattice_n = 64\n",
    "lattice_m = 64\n",
    "\n",
    "seed_no = 1234 # Seed no.\n",
    "\n",
    "# No. of Steps\n",
    "eq_steps = 100 # equlibration steps\n",
    "mc_steps = 1000 # monte carlo steps\n",
    "\n",
    "# Parameters\n",
    "J=1 # Interaction constant\n",
    "h=0 # external magnetic field\n",
    "\n",
    "# For calculation of the mean of observables:\n",
    "n1 = 1.0/(mc_steps*lattice_n*lattice_m)\n",
    "n2 = 1.0/(mc_steps*mc_steps*lattice_n*lattice_m)\n",
    "\n",
    "np.random.seed(seed_no) # Set the seed no.\n",
    "\n",
    "# Temperatures\n",
    "temp = 2.0\n",
    "inv_temp = 1/temp # inverse temperature\n",
    "inv_temp_sq = inv_temp*inv_temp # squared inverse temperature\n",
    "\n",
    "######### Start of the Simulation ############\n",
    "\n",
    "# Create a lattice\n",
    "lattice = initial_state(lattice_n, lattice_m)\n",
    "initial_lattice = lattice.copy()\n",
    "\n",
    "# Equilibration\n",
    "for i in range(eq_steps):\n",
    "    mc_move(lattice, inv_temp, J, h)\n",
    "\n",
    "E1 = M1 = E2 = M2 = 0 # For the observables\n",
    "# Start of calculation\n",
    "for i in range(mc_steps):\n",
    "    mc_move(lattice, inv_temp, J, h)\n",
    "    \n",
    "    # Calculation of observables\n",
    "    Ene = calc_energy(lattice, J, h)\n",
    "    Mag = calc_mag(lattice)\n",
    "    \n",
    "    E1 += Ene\n",
    "    M1 += Mag\n",
    "    M2 += Mag*Mag \n",
    "    E2 += Ene*Ene\n",
    "\n",
    "E = n1*E1 # Internal Energy\n",
    "M = n1*M1 # Magnetization\n",
    "C = (n1*E2 - n2*E1*E1)*inv_temp_sq # Specific Heat\n",
    "X = (n1*M2 - n2*M1*M1)*inv_temp # Magnetic Susceptibility"
   ]
  },
  {
   "cell_type": "code",
   "execution_count": 12,
   "metadata": {},
   "outputs": [
    {
     "data": {
      "image/png": "[encoded data removed]",
      "text/plain": [
       "<Figure size 640x480 with 2 Axes>"
      ]
     },
     "metadata": {},
     "output_type": "display_data"
    },
    {
     "data": {
      "image/png": "[encoded data removed]",
      "text/plain": [
       "<Figure size 640x480 with 2 Axes>"
      ]
     },
     "metadata": {},
     "output_type": "display_data"
    }
   ],
   "source": [
    "plot_ising(initial_lattice)\n",
    "plt.show()\n",
    "plot_ising(lattice)\n",
    "plt.show()"
   ]
  },
  {
   "cell_type": "code",
   "execution_count": null,
   "metadata": {},
   "outputs": [],
   "source": [
    "file_name = 'native_serial_cpu_data_low_lattice.csv'\n",
    "\n",
    "with open(file_name, 'w', newline='') as file:\n",
    "    writer = csv.writer(file)\n",
    "    writer.writerow([\"nGPUs\", \"temperature\", \"seed\", \"warmup_iter\", \"trial_iter\", \"lattice_dim\", \n",
    "                     \"elapsed_time\", \"updates_per_ns\", \"avg_mag\", \"inter_const\", \"mag_field\"])\n",
    "\n",
    "    file.close()"
   ]
  }
 ],
 "metadata": {
  "colab": {
   "collapsed_sections": [],
   "name": "Normal Ising Model.ipynb",
   "provenance": []
  },
  "kernelspec": {
   "display_name": "Python 3 (ipykernel)",
   "language": "python",
   "name": "python3"
  },
  "language_info": {
   "codemirror_mode": {
    "name": "ipython",
    "version": 3
   },
   "file_extension": ".py",
   "mimetype": "text/x-python",
   "name": "python",
   "nbconvert_exporter": "python",
   "pygments_lexer": "ipython3",
   "version": "3.8.17"
  }
 },
 "nbformat": 4,
 "nbformat_minor": 4
}
